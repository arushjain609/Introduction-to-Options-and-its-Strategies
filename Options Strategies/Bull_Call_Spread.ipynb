{
  "cells": [
    {
      "cell_type": "markdown",
      "metadata": {
        "id": "7xDoWE7dE2cf"
      },
      "source": [
        "# Bull Call Spread on Bank Nifty Data"
      ]
    },
    {
      "cell_type": "markdown",
      "metadata": {
        "id": "8OVX7m3oE2cm"
      },
      "source": [
        "https://zerodha.com/varsity/chapter/bull-call-spread/"
      ]
    },
    {
      "cell_type": "markdown",
      "metadata": {
        "id": "KksWFXRsE2co"
      },
      "source": [
        "In this assignment I have given the code for bull call spread on bank nifty data for 1 month managing the delta of 0.8 <br/>\n",
        "Also rather than buying at the money call option, we have bought bank nifty futures at the start of the month and we will hedge it by selling OTM call option."
      ]
    },
    {
      "cell_type": "markdown",
      "metadata": {
        "id": "0lWRZW5NE2cq"
      },
      "source": [
        "## Importing important libraries"
      ]
    },
    {
      "cell_type": "code",
      "execution_count": null,
      "metadata": {
        "id": "7Lb_SRTGE2cs",
        "colab": {
          "base_uri": "https://localhost:8080/"
        },
        "outputId": "99bd8061-94b5-4ee4-87ad-1271acb72b5e"
      },
      "outputs": [
        {
          "output_type": "stream",
          "name": "stdout",
          "text": [
            "Requirement already satisfied: py_vollib in /usr/local/lib/python3.10/dist-packages (1.0.1)\n",
            "Requirement already satisfied: py-lets-be-rational in /usr/local/lib/python3.10/dist-packages (from py_vollib) (1.0.1)\n",
            "Requirement already satisfied: simplejson in /usr/local/lib/python3.10/dist-packages (from py_vollib) (3.19.2)\n",
            "Requirement already satisfied: numpy in /usr/local/lib/python3.10/dist-packages (from py_vollib) (1.23.5)\n",
            "Requirement already satisfied: pandas in /usr/local/lib/python3.10/dist-packages (from py_vollib) (1.5.3)\n",
            "Requirement already satisfied: scipy in /usr/local/lib/python3.10/dist-packages (from py_vollib) (1.11.4)\n",
            "Requirement already satisfied: python-dateutil>=2.8.1 in /usr/local/lib/python3.10/dist-packages (from pandas->py_vollib) (2.8.2)\n",
            "Requirement already satisfied: pytz>=2020.1 in /usr/local/lib/python3.10/dist-packages (from pandas->py_vollib) (2023.3.post1)\n",
            "Requirement already satisfied: six>=1.5 in /usr/local/lib/python3.10/dist-packages (from python-dateutil>=2.8.1->pandas->py_vollib) (1.16.0)\n"
          ]
        }
      ],
      "source": [
        "pip install py_vollib"
      ]
    },
    {
      "cell_type": "code",
      "execution_count": null,
      "metadata": {
        "id": "tSeXWcnpE2cu"
      },
      "outputs": [],
      "source": [
        "import pandas as pd\n",
        "import matplotlib.pyplot as plt\n",
        "import numpy as np\n",
        "\n",
        "from datetime import datetime\n",
        "\n",
        "import warnings\n",
        "warnings.filterwarnings(\"ignore\")\n",
        "\n",
        "# to fetch data\n",
        "import yfinance as yf\n",
        "\n",
        "import scipy.stats as ss\n",
        "\n",
        "import py_vollib.black_scholes.greeks.analytical as derivatives\n",
        "\n",
        "import math"
      ]
    },
    {
      "cell_type": "markdown",
      "metadata": {
        "id": "oU7NYmRME2cw"
      },
      "source": [
        "## Importing data"
      ]
    },
    {
      "cell_type": "code",
      "execution_count": null,
      "metadata": {
        "id": "AoKgnZsdE2cx",
        "colab": {
          "base_uri": "https://localhost:8080/",
          "height": 310
        },
        "outputId": "91dadda9-2966-4f42-9ac7-5f552a233d69"
      },
      "outputs": [
        {
          "output_type": "execute_result",
          "data": {
            "text/plain": [
              "      Symbol         Date       Expiry      Open      High       Low  \\\n",
              "0  BANKNIFTY  28-May-2021  24-Jun-2021  35499.00  35670.00  35150.00   \n",
              "1  BANKNIFTY  31-May-2021  24-Jun-2021  35280.00  35650.00  35063.15   \n",
              "2  BANKNIFTY  01-Jun-2021  24-Jun-2021  35677.95  35797.45  35313.95   \n",
              "3  BANKNIFTY  02-Jun-2021  24-Jun-2021  35380.00  35560.00  35180.00   \n",
              "4  BANKNIFTY  03-Jun-2021  24-Jun-2021  35662.20  35890.00  35553.00   \n",
              "\n",
              "      Close       LTP  Settle Price  No. of contracts  Turnover in Lacs  \\\n",
              "0  35321.80  35394.05      35321.80            151658        1340811.02   \n",
              "1  35602.90  35578.25      35602.90            141916        1257088.18   \n",
              "2  35454.10  35470.00      35454.10            145631        1292727.92   \n",
              "3  35524.25  35540.00      35524.25            113559        1003669.30   \n",
              "4  35781.95  35775.00      35781.95            121729        1086929.72   \n",
              "\n",
              "   Open Int  Change in OI Underlying Value   \n",
              "0   1745000         27775          35141.45  \n",
              "1   1723450        -21550                 -  \n",
              "2   1731125          7675                 -  \n",
              "3   1700025        -31100                 -  \n",
              "4   1690250         -9775                 -  "
            ],
            "text/html": [
              "\n",
              "  <div id=\"df-4cd07dbb-f740-44a6-b6b3-5d92482fc80a\" class=\"colab-df-container\">\n",
              "    <div>\n",
              "<style scoped>\n",
              "    .dataframe tbody tr th:only-of-type {\n",
              "        vertical-align: middle;\n",
              "    }\n",
              "\n",
              "    .dataframe tbody tr th {\n",
              "        vertical-align: top;\n",
              "    }\n",
              "\n",
              "    .dataframe thead th {\n",
              "        text-align: right;\n",
              "    }\n",
              "</style>\n",
              "<table border=\"1\" class=\"dataframe\">\n",
              "  <thead>\n",
              "    <tr style=\"text-align: right;\">\n",
              "      <th></th>\n",
              "      <th>Symbol</th>\n",
              "      <th>Date</th>\n",
              "      <th>Expiry</th>\n",
              "      <th>Open</th>\n",
              "      <th>High</th>\n",
              "      <th>Low</th>\n",
              "      <th>Close</th>\n",
              "      <th>LTP</th>\n",
              "      <th>Settle Price</th>\n",
              "      <th>No. of contracts</th>\n",
              "      <th>Turnover in Lacs</th>\n",
              "      <th>Open Int</th>\n",
              "      <th>Change in OI</th>\n",
              "      <th>Underlying Value</th>\n",
              "    </tr>\n",
              "  </thead>\n",
              "  <tbody>\n",
              "    <tr>\n",
              "      <th>0</th>\n",
              "      <td>BANKNIFTY</td>\n",
              "      <td>28-May-2021</td>\n",
              "      <td>24-Jun-2021</td>\n",
              "      <td>35499.00</td>\n",
              "      <td>35670.00</td>\n",
              "      <td>35150.00</td>\n",
              "      <td>35321.80</td>\n",
              "      <td>35394.05</td>\n",
              "      <td>35321.80</td>\n",
              "      <td>151658</td>\n",
              "      <td>1340811.02</td>\n",
              "      <td>1745000</td>\n",
              "      <td>27775</td>\n",
              "      <td>35141.45</td>\n",
              "    </tr>\n",
              "    <tr>\n",
              "      <th>1</th>\n",
              "      <td>BANKNIFTY</td>\n",
              "      <td>31-May-2021</td>\n",
              "      <td>24-Jun-2021</td>\n",
              "      <td>35280.00</td>\n",
              "      <td>35650.00</td>\n",
              "      <td>35063.15</td>\n",
              "      <td>35602.90</td>\n",
              "      <td>35578.25</td>\n",
              "      <td>35602.90</td>\n",
              "      <td>141916</td>\n",
              "      <td>1257088.18</td>\n",
              "      <td>1723450</td>\n",
              "      <td>-21550</td>\n",
              "      <td>-</td>\n",
              "    </tr>\n",
              "    <tr>\n",
              "      <th>2</th>\n",
              "      <td>BANKNIFTY</td>\n",
              "      <td>01-Jun-2021</td>\n",
              "      <td>24-Jun-2021</td>\n",
              "      <td>35677.95</td>\n",
              "      <td>35797.45</td>\n",
              "      <td>35313.95</td>\n",
              "      <td>35454.10</td>\n",
              "      <td>35470.00</td>\n",
              "      <td>35454.10</td>\n",
              "      <td>145631</td>\n",
              "      <td>1292727.92</td>\n",
              "      <td>1731125</td>\n",
              "      <td>7675</td>\n",
              "      <td>-</td>\n",
              "    </tr>\n",
              "    <tr>\n",
              "      <th>3</th>\n",
              "      <td>BANKNIFTY</td>\n",
              "      <td>02-Jun-2021</td>\n",
              "      <td>24-Jun-2021</td>\n",
              "      <td>35380.00</td>\n",
              "      <td>35560.00</td>\n",
              "      <td>35180.00</td>\n",
              "      <td>35524.25</td>\n",
              "      <td>35540.00</td>\n",
              "      <td>35524.25</td>\n",
              "      <td>113559</td>\n",
              "      <td>1003669.30</td>\n",
              "      <td>1700025</td>\n",
              "      <td>-31100</td>\n",
              "      <td>-</td>\n",
              "    </tr>\n",
              "    <tr>\n",
              "      <th>4</th>\n",
              "      <td>BANKNIFTY</td>\n",
              "      <td>03-Jun-2021</td>\n",
              "      <td>24-Jun-2021</td>\n",
              "      <td>35662.20</td>\n",
              "      <td>35890.00</td>\n",
              "      <td>35553.00</td>\n",
              "      <td>35781.95</td>\n",
              "      <td>35775.00</td>\n",
              "      <td>35781.95</td>\n",
              "      <td>121729</td>\n",
              "      <td>1086929.72</td>\n",
              "      <td>1690250</td>\n",
              "      <td>-9775</td>\n",
              "      <td>-</td>\n",
              "    </tr>\n",
              "  </tbody>\n",
              "</table>\n",
              "</div>\n",
              "    <div class=\"colab-df-buttons\">\n",
              "\n",
              "  <div class=\"colab-df-container\">\n",
              "    <button class=\"colab-df-convert\" onclick=\"convertToInteractive('df-4cd07dbb-f740-44a6-b6b3-5d92482fc80a')\"\n",
              "            title=\"Convert this dataframe to an interactive table.\"\n",
              "            style=\"display:none;\">\n",
              "\n",
              "  <svg xmlns=\"http://www.w3.org/2000/svg\" height=\"24px\" viewBox=\"0 -960 960 960\">\n",
              "    <path d=\"M120-120v-720h720v720H120Zm60-500h600v-160H180v160Zm220 220h160v-160H400v160Zm0 220h160v-160H400v160ZM180-400h160v-160H180v160Zm440 0h160v-160H620v160ZM180-180h160v-160H180v160Zm440 0h160v-160H620v160Z\"/>\n",
              "  </svg>\n",
              "    </button>\n",
              "\n",
              "  <style>\n",
              "    .colab-df-container {\n",
              "      display:flex;\n",
              "      gap: 12px;\n",
              "    }\n",
              "\n",
              "    .colab-df-convert {\n",
              "      background-color: #E8F0FE;\n",
              "      border: none;\n",
              "      border-radius: 50%;\n",
              "      cursor: pointer;\n",
              "      display: none;\n",
              "      fill: #1967D2;\n",
              "      height: 32px;\n",
              "      padding: 0 0 0 0;\n",
              "      width: 32px;\n",
              "    }\n",
              "\n",
              "    .colab-df-convert:hover {\n",
              "      background-color: #E2EBFA;\n",
              "      box-shadow: 0px 1px 2px rgba(60, 64, 67, 0.3), 0px 1px 3px 1px rgba(60, 64, 67, 0.15);\n",
              "      fill: #174EA6;\n",
              "    }\n",
              "\n",
              "    .colab-df-buttons div {\n",
              "      margin-bottom: 4px;\n",
              "    }\n",
              "\n",
              "    [theme=dark] .colab-df-convert {\n",
              "      background-color: #3B4455;\n",
              "      fill: #D2E3FC;\n",
              "    }\n",
              "\n",
              "    [theme=dark] .colab-df-convert:hover {\n",
              "      background-color: #434B5C;\n",
              "      box-shadow: 0px 1px 3px 1px rgba(0, 0, 0, 0.15);\n",
              "      filter: drop-shadow(0px 1px 2px rgba(0, 0, 0, 0.3));\n",
              "      fill: #FFFFFF;\n",
              "    }\n",
              "  </style>\n",
              "\n",
              "    <script>\n",
              "      const buttonEl =\n",
              "        document.querySelector('#df-4cd07dbb-f740-44a6-b6b3-5d92482fc80a button.colab-df-convert');\n",
              "      buttonEl.style.display =\n",
              "        google.colab.kernel.accessAllowed ? 'block' : 'none';\n",
              "\n",
              "      async function convertToInteractive(key) {\n",
              "        const element = document.querySelector('#df-4cd07dbb-f740-44a6-b6b3-5d92482fc80a');\n",
              "        const dataTable =\n",
              "          await google.colab.kernel.invokeFunction('convertToInteractive',\n",
              "                                                    [key], {});\n",
              "        if (!dataTable) return;\n",
              "\n",
              "        const docLinkHtml = 'Like what you see? Visit the ' +\n",
              "          '<a target=\"_blank\" href=https://colab.research.google.com/notebooks/data_table.ipynb>data table notebook</a>'\n",
              "          + ' to learn more about interactive tables.';\n",
              "        element.innerHTML = '';\n",
              "        dataTable['output_type'] = 'display_data';\n",
              "        await google.colab.output.renderOutput(dataTable, element);\n",
              "        const docLink = document.createElement('div');\n",
              "        docLink.innerHTML = docLinkHtml;\n",
              "        element.appendChild(docLink);\n",
              "      }\n",
              "    </script>\n",
              "  </div>\n",
              "\n",
              "\n",
              "<div id=\"df-97341c21-613f-4509-a4c6-4fb6709b32bc\">\n",
              "  <button class=\"colab-df-quickchart\" onclick=\"quickchart('df-97341c21-613f-4509-a4c6-4fb6709b32bc')\"\n",
              "            title=\"Suggest charts\"\n",
              "            style=\"display:none;\">\n",
              "\n",
              "<svg xmlns=\"http://www.w3.org/2000/svg\" height=\"24px\"viewBox=\"0 0 24 24\"\n",
              "     width=\"24px\">\n",
              "    <g>\n",
              "        <path d=\"M19 3H5c-1.1 0-2 .9-2 2v14c0 1.1.9 2 2 2h14c1.1 0 2-.9 2-2V5c0-1.1-.9-2-2-2zM9 17H7v-7h2v7zm4 0h-2V7h2v10zm4 0h-2v-4h2v4z\"/>\n",
              "    </g>\n",
              "</svg>\n",
              "  </button>\n",
              "\n",
              "<style>\n",
              "  .colab-df-quickchart {\n",
              "      --bg-color: #E8F0FE;\n",
              "      --fill-color: #1967D2;\n",
              "      --hover-bg-color: #E2EBFA;\n",
              "      --hover-fill-color: #174EA6;\n",
              "      --disabled-fill-color: #AAA;\n",
              "      --disabled-bg-color: #DDD;\n",
              "  }\n",
              "\n",
              "  [theme=dark] .colab-df-quickchart {\n",
              "      --bg-color: #3B4455;\n",
              "      --fill-color: #D2E3FC;\n",
              "      --hover-bg-color: #434B5C;\n",
              "      --hover-fill-color: #FFFFFF;\n",
              "      --disabled-bg-color: #3B4455;\n",
              "      --disabled-fill-color: #666;\n",
              "  }\n",
              "\n",
              "  .colab-df-quickchart {\n",
              "    background-color: var(--bg-color);\n",
              "    border: none;\n",
              "    border-radius: 50%;\n",
              "    cursor: pointer;\n",
              "    display: none;\n",
              "    fill: var(--fill-color);\n",
              "    height: 32px;\n",
              "    padding: 0;\n",
              "    width: 32px;\n",
              "  }\n",
              "\n",
              "  .colab-df-quickchart:hover {\n",
              "    background-color: var(--hover-bg-color);\n",
              "    box-shadow: 0 1px 2px rgba(60, 64, 67, 0.3), 0 1px 3px 1px rgba(60, 64, 67, 0.15);\n",
              "    fill: var(--button-hover-fill-color);\n",
              "  }\n",
              "\n",
              "  .colab-df-quickchart-complete:disabled,\n",
              "  .colab-df-quickchart-complete:disabled:hover {\n",
              "    background-color: var(--disabled-bg-color);\n",
              "    fill: var(--disabled-fill-color);\n",
              "    box-shadow: none;\n",
              "  }\n",
              "\n",
              "  .colab-df-spinner {\n",
              "    border: 2px solid var(--fill-color);\n",
              "    border-color: transparent;\n",
              "    border-bottom-color: var(--fill-color);\n",
              "    animation:\n",
              "      spin 1s steps(1) infinite;\n",
              "  }\n",
              "\n",
              "  @keyframes spin {\n",
              "    0% {\n",
              "      border-color: transparent;\n",
              "      border-bottom-color: var(--fill-color);\n",
              "      border-left-color: var(--fill-color);\n",
              "    }\n",
              "    20% {\n",
              "      border-color: transparent;\n",
              "      border-left-color: var(--fill-color);\n",
              "      border-top-color: var(--fill-color);\n",
              "    }\n",
              "    30% {\n",
              "      border-color: transparent;\n",
              "      border-left-color: var(--fill-color);\n",
              "      border-top-color: var(--fill-color);\n",
              "      border-right-color: var(--fill-color);\n",
              "    }\n",
              "    40% {\n",
              "      border-color: transparent;\n",
              "      border-right-color: var(--fill-color);\n",
              "      border-top-color: var(--fill-color);\n",
              "    }\n",
              "    60% {\n",
              "      border-color: transparent;\n",
              "      border-right-color: var(--fill-color);\n",
              "    }\n",
              "    80% {\n",
              "      border-color: transparent;\n",
              "      border-right-color: var(--fill-color);\n",
              "      border-bottom-color: var(--fill-color);\n",
              "    }\n",
              "    90% {\n",
              "      border-color: transparent;\n",
              "      border-bottom-color: var(--fill-color);\n",
              "    }\n",
              "  }\n",
              "</style>\n",
              "\n",
              "  <script>\n",
              "    async function quickchart(key) {\n",
              "      const quickchartButtonEl =\n",
              "        document.querySelector('#' + key + ' button');\n",
              "      quickchartButtonEl.disabled = true;  // To prevent multiple clicks.\n",
              "      quickchartButtonEl.classList.add('colab-df-spinner');\n",
              "      try {\n",
              "        const charts = await google.colab.kernel.invokeFunction(\n",
              "            'suggestCharts', [key], {});\n",
              "      } catch (error) {\n",
              "        console.error('Error during call to suggestCharts:', error);\n",
              "      }\n",
              "      quickchartButtonEl.classList.remove('colab-df-spinner');\n",
              "      quickchartButtonEl.classList.add('colab-df-quickchart-complete');\n",
              "    }\n",
              "    (() => {\n",
              "      let quickchartButtonEl =\n",
              "        document.querySelector('#df-97341c21-613f-4509-a4c6-4fb6709b32bc button');\n",
              "      quickchartButtonEl.style.display =\n",
              "        google.colab.kernel.accessAllowed ? 'block' : 'none';\n",
              "    })();\n",
              "  </script>\n",
              "</div>\n",
              "\n",
              "    </div>\n",
              "  </div>\n"
            ]
          },
          "metadata": {},
          "execution_count": 6
        }
      ],
      "source": [
        "df_fut = pd.read_csv('/content/FUTIDX_BANKNIFTY_28-May-2021_TO_24-Jun-2021.csv')  #Fill in with the address of where you downloaded the file. You can check in properties of the file\n",
        "df_fut.head()"
      ]
    },
    {
      "cell_type": "code",
      "execution_count": null,
      "metadata": {
        "id": "dWfJrfbtE2cy",
        "colab": {
          "base_uri": "https://localhost:8080/",
          "height": 414
        },
        "outputId": "8464a09a-bd8c-49b6-e328-313f605b12ee"
      },
      "outputs": [
        {
          "output_type": "execute_result",
          "data": {
            "text/plain": [
              "      Symbol         Date       Expiry Option Type  Strike Price    Open  \\\n",
              "0  BANKNIFTY  28-May-2021  24-Jun-2021          CE         36000  849.95   \n",
              "1  BANKNIFTY  31-May-2021  24-Jun-2021          CE         36000  693.90   \n",
              "2  BANKNIFTY  01-Jun-2021  24-Jun-2021          CE         36000  782.00   \n",
              "3  BANKNIFTY  02-Jun-2021  24-Jun-2021          CE         36000  575.50   \n",
              "4  BANKNIFTY  03-Jun-2021  24-Jun-2021          CE         36000  659.05   \n",
              "\n",
              "     High     Low   Close     LTP  Settle Price  No. of contracts  \\\n",
              "0  924.50  665.60  730.80  743.30        730.80             26704   \n",
              "1  790.00  598.10  772.95  752.05        772.95             19525   \n",
              "2  832.00  633.35  660.65  661.00        660.65             31536   \n",
              "3  625.95  533.85  612.70  606.85        612.70             19060   \n",
              "4  753.90  596.50  698.40  696.00        698.40             24549   \n",
              "\n",
              "   Turnover in Lacs  Premium Turnover in Lacs  Open Int  Change in OI  \\\n",
              "0         245464.26                   5128.26    320700        116225   \n",
              "1         179242.57                   3517.57    331150         10450   \n",
              "2         289503.11                   5679.11    313700        -17450   \n",
              "3         174293.32                   2753.32    324475         10775   \n",
              "4         225062.12                   4121.12    328425          3950   \n",
              "\n",
              "  Underlying Value  \n",
              "0         35141.45  \n",
              "1                -  \n",
              "2                -  \n",
              "3                -  \n",
              "4                -  "
            ],
            "text/html": [
              "\n",
              "  <div id=\"df-9d77f9b9-8650-4c81-86e1-8cf3470ac9cc\" class=\"colab-df-container\">\n",
              "    <div>\n",
              "<style scoped>\n",
              "    .dataframe tbody tr th:only-of-type {\n",
              "        vertical-align: middle;\n",
              "    }\n",
              "\n",
              "    .dataframe tbody tr th {\n",
              "        vertical-align: top;\n",
              "    }\n",
              "\n",
              "    .dataframe thead th {\n",
              "        text-align: right;\n",
              "    }\n",
              "</style>\n",
              "<table border=\"1\" class=\"dataframe\">\n",
              "  <thead>\n",
              "    <tr style=\"text-align: right;\">\n",
              "      <th></th>\n",
              "      <th>Symbol</th>\n",
              "      <th>Date</th>\n",
              "      <th>Expiry</th>\n",
              "      <th>Option Type</th>\n",
              "      <th>Strike Price</th>\n",
              "      <th>Open</th>\n",
              "      <th>High</th>\n",
              "      <th>Low</th>\n",
              "      <th>Close</th>\n",
              "      <th>LTP</th>\n",
              "      <th>Settle Price</th>\n",
              "      <th>No. of contracts</th>\n",
              "      <th>Turnover in Lacs</th>\n",
              "      <th>Premium Turnover in Lacs</th>\n",
              "      <th>Open Int</th>\n",
              "      <th>Change in OI</th>\n",
              "      <th>Underlying Value</th>\n",
              "    </tr>\n",
              "  </thead>\n",
              "  <tbody>\n",
              "    <tr>\n",
              "      <th>0</th>\n",
              "      <td>BANKNIFTY</td>\n",
              "      <td>28-May-2021</td>\n",
              "      <td>24-Jun-2021</td>\n",
              "      <td>CE</td>\n",
              "      <td>36000</td>\n",
              "      <td>849.95</td>\n",
              "      <td>924.50</td>\n",
              "      <td>665.60</td>\n",
              "      <td>730.80</td>\n",
              "      <td>743.30</td>\n",
              "      <td>730.80</td>\n",
              "      <td>26704</td>\n",
              "      <td>245464.26</td>\n",
              "      <td>5128.26</td>\n",
              "      <td>320700</td>\n",
              "      <td>116225</td>\n",
              "      <td>35141.45</td>\n",
              "    </tr>\n",
              "    <tr>\n",
              "      <th>1</th>\n",
              "      <td>BANKNIFTY</td>\n",
              "      <td>31-May-2021</td>\n",
              "      <td>24-Jun-2021</td>\n",
              "      <td>CE</td>\n",
              "      <td>36000</td>\n",
              "      <td>693.90</td>\n",
              "      <td>790.00</td>\n",
              "      <td>598.10</td>\n",
              "      <td>772.95</td>\n",
              "      <td>752.05</td>\n",
              "      <td>772.95</td>\n",
              "      <td>19525</td>\n",
              "      <td>179242.57</td>\n",
              "      <td>3517.57</td>\n",
              "      <td>331150</td>\n",
              "      <td>10450</td>\n",
              "      <td>-</td>\n",
              "    </tr>\n",
              "    <tr>\n",
              "      <th>2</th>\n",
              "      <td>BANKNIFTY</td>\n",
              "      <td>01-Jun-2021</td>\n",
              "      <td>24-Jun-2021</td>\n",
              "      <td>CE</td>\n",
              "      <td>36000</td>\n",
              "      <td>782.00</td>\n",
              "      <td>832.00</td>\n",
              "      <td>633.35</td>\n",
              "      <td>660.65</td>\n",
              "      <td>661.00</td>\n",
              "      <td>660.65</td>\n",
              "      <td>31536</td>\n",
              "      <td>289503.11</td>\n",
              "      <td>5679.11</td>\n",
              "      <td>313700</td>\n",
              "      <td>-17450</td>\n",
              "      <td>-</td>\n",
              "    </tr>\n",
              "    <tr>\n",
              "      <th>3</th>\n",
              "      <td>BANKNIFTY</td>\n",
              "      <td>02-Jun-2021</td>\n",
              "      <td>24-Jun-2021</td>\n",
              "      <td>CE</td>\n",
              "      <td>36000</td>\n",
              "      <td>575.50</td>\n",
              "      <td>625.95</td>\n",
              "      <td>533.85</td>\n",
              "      <td>612.70</td>\n",
              "      <td>606.85</td>\n",
              "      <td>612.70</td>\n",
              "      <td>19060</td>\n",
              "      <td>174293.32</td>\n",
              "      <td>2753.32</td>\n",
              "      <td>324475</td>\n",
              "      <td>10775</td>\n",
              "      <td>-</td>\n",
              "    </tr>\n",
              "    <tr>\n",
              "      <th>4</th>\n",
              "      <td>BANKNIFTY</td>\n",
              "      <td>03-Jun-2021</td>\n",
              "      <td>24-Jun-2021</td>\n",
              "      <td>CE</td>\n",
              "      <td>36000</td>\n",
              "      <td>659.05</td>\n",
              "      <td>753.90</td>\n",
              "      <td>596.50</td>\n",
              "      <td>698.40</td>\n",
              "      <td>696.00</td>\n",
              "      <td>698.40</td>\n",
              "      <td>24549</td>\n",
              "      <td>225062.12</td>\n",
              "      <td>4121.12</td>\n",
              "      <td>328425</td>\n",
              "      <td>3950</td>\n",
              "      <td>-</td>\n",
              "    </tr>\n",
              "  </tbody>\n",
              "</table>\n",
              "</div>\n",
              "    <div class=\"colab-df-buttons\">\n",
              "\n",
              "  <div class=\"colab-df-container\">\n",
              "    <button class=\"colab-df-convert\" onclick=\"convertToInteractive('df-9d77f9b9-8650-4c81-86e1-8cf3470ac9cc')\"\n",
              "            title=\"Convert this dataframe to an interactive table.\"\n",
              "            style=\"display:none;\">\n",
              "\n",
              "  <svg xmlns=\"http://www.w3.org/2000/svg\" height=\"24px\" viewBox=\"0 -960 960 960\">\n",
              "    <path d=\"M120-120v-720h720v720H120Zm60-500h600v-160H180v160Zm220 220h160v-160H400v160Zm0 220h160v-160H400v160ZM180-400h160v-160H180v160Zm440 0h160v-160H620v160ZM180-180h160v-160H180v160Zm440 0h160v-160H620v160Z\"/>\n",
              "  </svg>\n",
              "    </button>\n",
              "\n",
              "  <style>\n",
              "    .colab-df-container {\n",
              "      display:flex;\n",
              "      gap: 12px;\n",
              "    }\n",
              "\n",
              "    .colab-df-convert {\n",
              "      background-color: #E8F0FE;\n",
              "      border: none;\n",
              "      border-radius: 50%;\n",
              "      cursor: pointer;\n",
              "      display: none;\n",
              "      fill: #1967D2;\n",
              "      height: 32px;\n",
              "      padding: 0 0 0 0;\n",
              "      width: 32px;\n",
              "    }\n",
              "\n",
              "    .colab-df-convert:hover {\n",
              "      background-color: #E2EBFA;\n",
              "      box-shadow: 0px 1px 2px rgba(60, 64, 67, 0.3), 0px 1px 3px 1px rgba(60, 64, 67, 0.15);\n",
              "      fill: #174EA6;\n",
              "    }\n",
              "\n",
              "    .colab-df-buttons div {\n",
              "      margin-bottom: 4px;\n",
              "    }\n",
              "\n",
              "    [theme=dark] .colab-df-convert {\n",
              "      background-color: #3B4455;\n",
              "      fill: #D2E3FC;\n",
              "    }\n",
              "\n",
              "    [theme=dark] .colab-df-convert:hover {\n",
              "      background-color: #434B5C;\n",
              "      box-shadow: 0px 1px 3px 1px rgba(0, 0, 0, 0.15);\n",
              "      filter: drop-shadow(0px 1px 2px rgba(0, 0, 0, 0.3));\n",
              "      fill: #FFFFFF;\n",
              "    }\n",
              "  </style>\n",
              "\n",
              "    <script>\n",
              "      const buttonEl =\n",
              "        document.querySelector('#df-9d77f9b9-8650-4c81-86e1-8cf3470ac9cc button.colab-df-convert');\n",
              "      buttonEl.style.display =\n",
              "        google.colab.kernel.accessAllowed ? 'block' : 'none';\n",
              "\n",
              "      async function convertToInteractive(key) {\n",
              "        const element = document.querySelector('#df-9d77f9b9-8650-4c81-86e1-8cf3470ac9cc');\n",
              "        const dataTable =\n",
              "          await google.colab.kernel.invokeFunction('convertToInteractive',\n",
              "                                                    [key], {});\n",
              "        if (!dataTable) return;\n",
              "\n",
              "        const docLinkHtml = 'Like what you see? Visit the ' +\n",
              "          '<a target=\"_blank\" href=https://colab.research.google.com/notebooks/data_table.ipynb>data table notebook</a>'\n",
              "          + ' to learn more about interactive tables.';\n",
              "        element.innerHTML = '';\n",
              "        dataTable['output_type'] = 'display_data';\n",
              "        await google.colab.output.renderOutput(dataTable, element);\n",
              "        const docLink = document.createElement('div');\n",
              "        docLink.innerHTML = docLinkHtml;\n",
              "        element.appendChild(docLink);\n",
              "      }\n",
              "    </script>\n",
              "  </div>\n",
              "\n",
              "\n",
              "<div id=\"df-4d586e04-8cc3-4e6f-ab9d-11d22722d29a\">\n",
              "  <button class=\"colab-df-quickchart\" onclick=\"quickchart('df-4d586e04-8cc3-4e6f-ab9d-11d22722d29a')\"\n",
              "            title=\"Suggest charts\"\n",
              "            style=\"display:none;\">\n",
              "\n",
              "<svg xmlns=\"http://www.w3.org/2000/svg\" height=\"24px\"viewBox=\"0 0 24 24\"\n",
              "     width=\"24px\">\n",
              "    <g>\n",
              "        <path d=\"M19 3H5c-1.1 0-2 .9-2 2v14c0 1.1.9 2 2 2h14c1.1 0 2-.9 2-2V5c0-1.1-.9-2-2-2zM9 17H7v-7h2v7zm4 0h-2V7h2v10zm4 0h-2v-4h2v4z\"/>\n",
              "    </g>\n",
              "</svg>\n",
              "  </button>\n",
              "\n",
              "<style>\n",
              "  .colab-df-quickchart {\n",
              "      --bg-color: #E8F0FE;\n",
              "      --fill-color: #1967D2;\n",
              "      --hover-bg-color: #E2EBFA;\n",
              "      --hover-fill-color: #174EA6;\n",
              "      --disabled-fill-color: #AAA;\n",
              "      --disabled-bg-color: #DDD;\n",
              "  }\n",
              "\n",
              "  [theme=dark] .colab-df-quickchart {\n",
              "      --bg-color: #3B4455;\n",
              "      --fill-color: #D2E3FC;\n",
              "      --hover-bg-color: #434B5C;\n",
              "      --hover-fill-color: #FFFFFF;\n",
              "      --disabled-bg-color: #3B4455;\n",
              "      --disabled-fill-color: #666;\n",
              "  }\n",
              "\n",
              "  .colab-df-quickchart {\n",
              "    background-color: var(--bg-color);\n",
              "    border: none;\n",
              "    border-radius: 50%;\n",
              "    cursor: pointer;\n",
              "    display: none;\n",
              "    fill: var(--fill-color);\n",
              "    height: 32px;\n",
              "    padding: 0;\n",
              "    width: 32px;\n",
              "  }\n",
              "\n",
              "  .colab-df-quickchart:hover {\n",
              "    background-color: var(--hover-bg-color);\n",
              "    box-shadow: 0 1px 2px rgba(60, 64, 67, 0.3), 0 1px 3px 1px rgba(60, 64, 67, 0.15);\n",
              "    fill: var(--button-hover-fill-color);\n",
              "  }\n",
              "\n",
              "  .colab-df-quickchart-complete:disabled,\n",
              "  .colab-df-quickchart-complete:disabled:hover {\n",
              "    background-color: var(--disabled-bg-color);\n",
              "    fill: var(--disabled-fill-color);\n",
              "    box-shadow: none;\n",
              "  }\n",
              "\n",
              "  .colab-df-spinner {\n",
              "    border: 2px solid var(--fill-color);\n",
              "    border-color: transparent;\n",
              "    border-bottom-color: var(--fill-color);\n",
              "    animation:\n",
              "      spin 1s steps(1) infinite;\n",
              "  }\n",
              "\n",
              "  @keyframes spin {\n",
              "    0% {\n",
              "      border-color: transparent;\n",
              "      border-bottom-color: var(--fill-color);\n",
              "      border-left-color: var(--fill-color);\n",
              "    }\n",
              "    20% {\n",
              "      border-color: transparent;\n",
              "      border-left-color: var(--fill-color);\n",
              "      border-top-color: var(--fill-color);\n",
              "    }\n",
              "    30% {\n",
              "      border-color: transparent;\n",
              "      border-left-color: var(--fill-color);\n",
              "      border-top-color: var(--fill-color);\n",
              "      border-right-color: var(--fill-color);\n",
              "    }\n",
              "    40% {\n",
              "      border-color: transparent;\n",
              "      border-right-color: var(--fill-color);\n",
              "      border-top-color: var(--fill-color);\n",
              "    }\n",
              "    60% {\n",
              "      border-color: transparent;\n",
              "      border-right-color: var(--fill-color);\n",
              "    }\n",
              "    80% {\n",
              "      border-color: transparent;\n",
              "      border-right-color: var(--fill-color);\n",
              "      border-bottom-color: var(--fill-color);\n",
              "    }\n",
              "    90% {\n",
              "      border-color: transparent;\n",
              "      border-bottom-color: var(--fill-color);\n",
              "    }\n",
              "  }\n",
              "</style>\n",
              "\n",
              "  <script>\n",
              "    async function quickchart(key) {\n",
              "      const quickchartButtonEl =\n",
              "        document.querySelector('#' + key + ' button');\n",
              "      quickchartButtonEl.disabled = true;  // To prevent multiple clicks.\n",
              "      quickchartButtonEl.classList.add('colab-df-spinner');\n",
              "      try {\n",
              "        const charts = await google.colab.kernel.invokeFunction(\n",
              "            'suggestCharts', [key], {});\n",
              "      } catch (error) {\n",
              "        console.error('Error during call to suggestCharts:', error);\n",
              "      }\n",
              "      quickchartButtonEl.classList.remove('colab-df-spinner');\n",
              "      quickchartButtonEl.classList.add('colab-df-quickchart-complete');\n",
              "    }\n",
              "    (() => {\n",
              "      let quickchartButtonEl =\n",
              "        document.querySelector('#df-4d586e04-8cc3-4e6f-ab9d-11d22722d29a button');\n",
              "      quickchartButtonEl.style.display =\n",
              "        google.colab.kernel.accessAllowed ? 'block' : 'none';\n",
              "    })();\n",
              "  </script>\n",
              "</div>\n",
              "\n",
              "    </div>\n",
              "  </div>\n"
            ]
          },
          "metadata": {},
          "execution_count": 7
        }
      ],
      "source": [
        "df_call_36000 = pd.read_csv('/content/OPTIDX_BANKNIFTY_CE_28-May-2021_TO_24-Jun-2021.csv')\n",
        "df_call_36000.head()"
      ]
    },
    {
      "cell_type": "code",
      "execution_count": null,
      "metadata": {
        "id": "OdNi1apQE2cz",
        "colab": {
          "base_uri": "https://localhost:8080/",
          "height": 255
        },
        "outputId": "0ac2ac78-5187-4414-9e85-d31c50f61c97"
      },
      "outputs": [
        {
          "output_type": "stream",
          "name": "stdout",
          "text": [
            "\r[*********************100%%**********************]  1 of 1 completed\n"
          ]
        },
        {
          "output_type": "execute_result",
          "data": {
            "text/plain": [
              "                    Open          High           Low         Close  \\\n",
              "Date                                                                 \n",
              "2021-05-28  35345.648438  35436.648438  34977.199219  35141.449219   \n",
              "2021-05-31  35097.449219  35584.300781  34930.101562  35526.648438   \n",
              "2021-06-01  35639.750000  35713.898438  35241.199219  35337.199219   \n",
              "2021-06-02  35271.601562  35415.851562  35070.300781  35373.750000   \n",
              "2021-06-03  35536.449219  35723.699219  35413.000000  35649.000000   \n",
              "\n",
              "               Adj Close  Volume  \n",
              "Date                              \n",
              "2021-05-28  35141.039062       0  \n",
              "2021-05-31  35526.234375       0  \n",
              "2021-06-01  35336.789062       0  \n",
              "2021-06-02  35373.339844       0  \n",
              "2021-06-03  35648.585938       0  "
            ],
            "text/html": [
              "\n",
              "  <div id=\"df-9773a8a8-d371-4d8d-87f6-b65252be7f68\" class=\"colab-df-container\">\n",
              "    <div>\n",
              "<style scoped>\n",
              "    .dataframe tbody tr th:only-of-type {\n",
              "        vertical-align: middle;\n",
              "    }\n",
              "\n",
              "    .dataframe tbody tr th {\n",
              "        vertical-align: top;\n",
              "    }\n",
              "\n",
              "    .dataframe thead th {\n",
              "        text-align: right;\n",
              "    }\n",
              "</style>\n",
              "<table border=\"1\" class=\"dataframe\">\n",
              "  <thead>\n",
              "    <tr style=\"text-align: right;\">\n",
              "      <th></th>\n",
              "      <th>Open</th>\n",
              "      <th>High</th>\n",
              "      <th>Low</th>\n",
              "      <th>Close</th>\n",
              "      <th>Adj Close</th>\n",
              "      <th>Volume</th>\n",
              "    </tr>\n",
              "    <tr>\n",
              "      <th>Date</th>\n",
              "      <th></th>\n",
              "      <th></th>\n",
              "      <th></th>\n",
              "      <th></th>\n",
              "      <th></th>\n",
              "      <th></th>\n",
              "    </tr>\n",
              "  </thead>\n",
              "  <tbody>\n",
              "    <tr>\n",
              "      <th>2021-05-28</th>\n",
              "      <td>35345.648438</td>\n",
              "      <td>35436.648438</td>\n",
              "      <td>34977.199219</td>\n",
              "      <td>35141.449219</td>\n",
              "      <td>35141.039062</td>\n",
              "      <td>0</td>\n",
              "    </tr>\n",
              "    <tr>\n",
              "      <th>2021-05-31</th>\n",
              "      <td>35097.449219</td>\n",
              "      <td>35584.300781</td>\n",
              "      <td>34930.101562</td>\n",
              "      <td>35526.648438</td>\n",
              "      <td>35526.234375</td>\n",
              "      <td>0</td>\n",
              "    </tr>\n",
              "    <tr>\n",
              "      <th>2021-06-01</th>\n",
              "      <td>35639.750000</td>\n",
              "      <td>35713.898438</td>\n",
              "      <td>35241.199219</td>\n",
              "      <td>35337.199219</td>\n",
              "      <td>35336.789062</td>\n",
              "      <td>0</td>\n",
              "    </tr>\n",
              "    <tr>\n",
              "      <th>2021-06-02</th>\n",
              "      <td>35271.601562</td>\n",
              "      <td>35415.851562</td>\n",
              "      <td>35070.300781</td>\n",
              "      <td>35373.750000</td>\n",
              "      <td>35373.339844</td>\n",
              "      <td>0</td>\n",
              "    </tr>\n",
              "    <tr>\n",
              "      <th>2021-06-03</th>\n",
              "      <td>35536.449219</td>\n",
              "      <td>35723.699219</td>\n",
              "      <td>35413.000000</td>\n",
              "      <td>35649.000000</td>\n",
              "      <td>35648.585938</td>\n",
              "      <td>0</td>\n",
              "    </tr>\n",
              "  </tbody>\n",
              "</table>\n",
              "</div>\n",
              "    <div class=\"colab-df-buttons\">\n",
              "\n",
              "  <div class=\"colab-df-container\">\n",
              "    <button class=\"colab-df-convert\" onclick=\"convertToInteractive('df-9773a8a8-d371-4d8d-87f6-b65252be7f68')\"\n",
              "            title=\"Convert this dataframe to an interactive table.\"\n",
              "            style=\"display:none;\">\n",
              "\n",
              "  <svg xmlns=\"http://www.w3.org/2000/svg\" height=\"24px\" viewBox=\"0 -960 960 960\">\n",
              "    <path d=\"M120-120v-720h720v720H120Zm60-500h600v-160H180v160Zm220 220h160v-160H400v160Zm0 220h160v-160H400v160ZM180-400h160v-160H180v160Zm440 0h160v-160H620v160ZM180-180h160v-160H180v160Zm440 0h160v-160H620v160Z\"/>\n",
              "  </svg>\n",
              "    </button>\n",
              "\n",
              "  <style>\n",
              "    .colab-df-container {\n",
              "      display:flex;\n",
              "      gap: 12px;\n",
              "    }\n",
              "\n",
              "    .colab-df-convert {\n",
              "      background-color: #E8F0FE;\n",
              "      border: none;\n",
              "      border-radius: 50%;\n",
              "      cursor: pointer;\n",
              "      display: none;\n",
              "      fill: #1967D2;\n",
              "      height: 32px;\n",
              "      padding: 0 0 0 0;\n",
              "      width: 32px;\n",
              "    }\n",
              "\n",
              "    .colab-df-convert:hover {\n",
              "      background-color: #E2EBFA;\n",
              "      box-shadow: 0px 1px 2px rgba(60, 64, 67, 0.3), 0px 1px 3px 1px rgba(60, 64, 67, 0.15);\n",
              "      fill: #174EA6;\n",
              "    }\n",
              "\n",
              "    .colab-df-buttons div {\n",
              "      margin-bottom: 4px;\n",
              "    }\n",
              "\n",
              "    [theme=dark] .colab-df-convert {\n",
              "      background-color: #3B4455;\n",
              "      fill: #D2E3FC;\n",
              "    }\n",
              "\n",
              "    [theme=dark] .colab-df-convert:hover {\n",
              "      background-color: #434B5C;\n",
              "      box-shadow: 0px 1px 3px 1px rgba(0, 0, 0, 0.15);\n",
              "      filter: drop-shadow(0px 1px 2px rgba(0, 0, 0, 0.3));\n",
              "      fill: #FFFFFF;\n",
              "    }\n",
              "  </style>\n",
              "\n",
              "    <script>\n",
              "      const buttonEl =\n",
              "        document.querySelector('#df-9773a8a8-d371-4d8d-87f6-b65252be7f68 button.colab-df-convert');\n",
              "      buttonEl.style.display =\n",
              "        google.colab.kernel.accessAllowed ? 'block' : 'none';\n",
              "\n",
              "      async function convertToInteractive(key) {\n",
              "        const element = document.querySelector('#df-9773a8a8-d371-4d8d-87f6-b65252be7f68');\n",
              "        const dataTable =\n",
              "          await google.colab.kernel.invokeFunction('convertToInteractive',\n",
              "                                                    [key], {});\n",
              "        if (!dataTable) return;\n",
              "\n",
              "        const docLinkHtml = 'Like what you see? Visit the ' +\n",
              "          '<a target=\"_blank\" href=https://colab.research.google.com/notebooks/data_table.ipynb>data table notebook</a>'\n",
              "          + ' to learn more about interactive tables.';\n",
              "        element.innerHTML = '';\n",
              "        dataTable['output_type'] = 'display_data';\n",
              "        await google.colab.output.renderOutput(dataTable, element);\n",
              "        const docLink = document.createElement('div');\n",
              "        docLink.innerHTML = docLinkHtml;\n",
              "        element.appendChild(docLink);\n",
              "      }\n",
              "    </script>\n",
              "  </div>\n",
              "\n",
              "\n",
              "<div id=\"df-605dae7e-afb4-4edb-aae7-5b7f2cbcbc29\">\n",
              "  <button class=\"colab-df-quickchart\" onclick=\"quickchart('df-605dae7e-afb4-4edb-aae7-5b7f2cbcbc29')\"\n",
              "            title=\"Suggest charts\"\n",
              "            style=\"display:none;\">\n",
              "\n",
              "<svg xmlns=\"http://www.w3.org/2000/svg\" height=\"24px\"viewBox=\"0 0 24 24\"\n",
              "     width=\"24px\">\n",
              "    <g>\n",
              "        <path d=\"M19 3H5c-1.1 0-2 .9-2 2v14c0 1.1.9 2 2 2h14c1.1 0 2-.9 2-2V5c0-1.1-.9-2-2-2zM9 17H7v-7h2v7zm4 0h-2V7h2v10zm4 0h-2v-4h2v4z\"/>\n",
              "    </g>\n",
              "</svg>\n",
              "  </button>\n",
              "\n",
              "<style>\n",
              "  .colab-df-quickchart {\n",
              "      --bg-color: #E8F0FE;\n",
              "      --fill-color: #1967D2;\n",
              "      --hover-bg-color: #E2EBFA;\n",
              "      --hover-fill-color: #174EA6;\n",
              "      --disabled-fill-color: #AAA;\n",
              "      --disabled-bg-color: #DDD;\n",
              "  }\n",
              "\n",
              "  [theme=dark] .colab-df-quickchart {\n",
              "      --bg-color: #3B4455;\n",
              "      --fill-color: #D2E3FC;\n",
              "      --hover-bg-color: #434B5C;\n",
              "      --hover-fill-color: #FFFFFF;\n",
              "      --disabled-bg-color: #3B4455;\n",
              "      --disabled-fill-color: #666;\n",
              "  }\n",
              "\n",
              "  .colab-df-quickchart {\n",
              "    background-color: var(--bg-color);\n",
              "    border: none;\n",
              "    border-radius: 50%;\n",
              "    cursor: pointer;\n",
              "    display: none;\n",
              "    fill: var(--fill-color);\n",
              "    height: 32px;\n",
              "    padding: 0;\n",
              "    width: 32px;\n",
              "  }\n",
              "\n",
              "  .colab-df-quickchart:hover {\n",
              "    background-color: var(--hover-bg-color);\n",
              "    box-shadow: 0 1px 2px rgba(60, 64, 67, 0.3), 0 1px 3px 1px rgba(60, 64, 67, 0.15);\n",
              "    fill: var(--button-hover-fill-color);\n",
              "  }\n",
              "\n",
              "  .colab-df-quickchart-complete:disabled,\n",
              "  .colab-df-quickchart-complete:disabled:hover {\n",
              "    background-color: var(--disabled-bg-color);\n",
              "    fill: var(--disabled-fill-color);\n",
              "    box-shadow: none;\n",
              "  }\n",
              "\n",
              "  .colab-df-spinner {\n",
              "    border: 2px solid var(--fill-color);\n",
              "    border-color: transparent;\n",
              "    border-bottom-color: var(--fill-color);\n",
              "    animation:\n",
              "      spin 1s steps(1) infinite;\n",
              "  }\n",
              "\n",
              "  @keyframes spin {\n",
              "    0% {\n",
              "      border-color: transparent;\n",
              "      border-bottom-color: var(--fill-color);\n",
              "      border-left-color: var(--fill-color);\n",
              "    }\n",
              "    20% {\n",
              "      border-color: transparent;\n",
              "      border-left-color: var(--fill-color);\n",
              "      border-top-color: var(--fill-color);\n",
              "    }\n",
              "    30% {\n",
              "      border-color: transparent;\n",
              "      border-left-color: var(--fill-color);\n",
              "      border-top-color: var(--fill-color);\n",
              "      border-right-color: var(--fill-color);\n",
              "    }\n",
              "    40% {\n",
              "      border-color: transparent;\n",
              "      border-right-color: var(--fill-color);\n",
              "      border-top-color: var(--fill-color);\n",
              "    }\n",
              "    60% {\n",
              "      border-color: transparent;\n",
              "      border-right-color: var(--fill-color);\n",
              "    }\n",
              "    80% {\n",
              "      border-color: transparent;\n",
              "      border-right-color: var(--fill-color);\n",
              "      border-bottom-color: var(--fill-color);\n",
              "    }\n",
              "    90% {\n",
              "      border-color: transparent;\n",
              "      border-bottom-color: var(--fill-color);\n",
              "    }\n",
              "  }\n",
              "</style>\n",
              "\n",
              "  <script>\n",
              "    async function quickchart(key) {\n",
              "      const quickchartButtonEl =\n",
              "        document.querySelector('#' + key + ' button');\n",
              "      quickchartButtonEl.disabled = true;  // To prevent multiple clicks.\n",
              "      quickchartButtonEl.classList.add('colab-df-spinner');\n",
              "      try {\n",
              "        const charts = await google.colab.kernel.invokeFunction(\n",
              "            'suggestCharts', [key], {});\n",
              "      } catch (error) {\n",
              "        console.error('Error during call to suggestCharts:', error);\n",
              "      }\n",
              "      quickchartButtonEl.classList.remove('colab-df-spinner');\n",
              "      quickchartButtonEl.classList.add('colab-df-quickchart-complete');\n",
              "    }\n",
              "    (() => {\n",
              "      let quickchartButtonEl =\n",
              "        document.querySelector('#df-605dae7e-afb4-4edb-aae7-5b7f2cbcbc29 button');\n",
              "      quickchartButtonEl.style.display =\n",
              "        google.colab.kernel.accessAllowed ? 'block' : 'none';\n",
              "    })();\n",
              "  </script>\n",
              "</div>\n",
              "\n",
              "    </div>\n",
              "  </div>\n"
            ]
          },
          "metadata": {},
          "execution_count": 8
        }
      ],
      "source": [
        "symbol = '^NSEBANK'\n",
        "end = '2021-06-25'\n",
        "start = '2021-05-28'\n",
        "\n",
        "\n",
        "# Read data\n",
        "df = yf.download(symbol,start,end)\n",
        "\n",
        "df.head()"
      ]
    },
    {
      "cell_type": "markdown",
      "metadata": {
        "id": "8z9nZqOME2c0"
      },
      "source": [
        "### Calculation of annual volatility and time remainig for expiry used in calculation of delta"
      ]
    },
    {
      "cell_type": "code",
      "execution_count": null,
      "metadata": {
        "id": "MD-tOY88E2c0",
        "colab": {
          "base_uri": "https://localhost:8080/",
          "height": 255
        },
        "outputId": "e43a05d4-2d2b-4007-b35c-1cd66096880e"
      },
      "outputs": [
        {
          "output_type": "stream",
          "name": "stdout",
          "text": [
            "\r[*********************100%%**********************]  1 of 1 completed\n"
          ]
        },
        {
          "output_type": "execute_result",
          "data": {
            "text/plain": [
              "                    Open          High           Low         Close  \\\n",
              "Date                                                                 \n",
              "2020-05-28  18924.449219  19455.550781  18818.949219  19169.800781   \n",
              "2020-05-29  18962.000000  19358.050781  18729.900391  19297.250000   \n",
              "2020-06-01  19728.900391  20225.349609  19632.900391  19959.900391   \n",
              "2020-06-02  20120.599609  20615.750000  19852.550781  20530.199219   \n",
              "2020-06-03  20966.599609  21619.550781  20822.000000  20940.699219   \n",
              "\n",
              "               Adj Close  Volume  \n",
              "Date                              \n",
              "2020-05-28  19169.578125  561100  \n",
              "2020-05-29  19297.025391  581700  \n",
              "2020-06-01  19959.667969  558100  \n",
              "2020-06-02  20529.960938  448300  \n",
              "2020-06-03  20940.455078  616900  "
            ],
            "text/html": [
              "\n",
              "  <div id=\"df-99bf5a27-e14c-408e-b8b3-2cdaf4a08f77\" class=\"colab-df-container\">\n",
              "    <div>\n",
              "<style scoped>\n",
              "    .dataframe tbody tr th:only-of-type {\n",
              "        vertical-align: middle;\n",
              "    }\n",
              "\n",
              "    .dataframe tbody tr th {\n",
              "        vertical-align: top;\n",
              "    }\n",
              "\n",
              "    .dataframe thead th {\n",
              "        text-align: right;\n",
              "    }\n",
              "</style>\n",
              "<table border=\"1\" class=\"dataframe\">\n",
              "  <thead>\n",
              "    <tr style=\"text-align: right;\">\n",
              "      <th></th>\n",
              "      <th>Open</th>\n",
              "      <th>High</th>\n",
              "      <th>Low</th>\n",
              "      <th>Close</th>\n",
              "      <th>Adj Close</th>\n",
              "      <th>Volume</th>\n",
              "    </tr>\n",
              "    <tr>\n",
              "      <th>Date</th>\n",
              "      <th></th>\n",
              "      <th></th>\n",
              "      <th></th>\n",
              "      <th></th>\n",
              "      <th></th>\n",
              "      <th></th>\n",
              "    </tr>\n",
              "  </thead>\n",
              "  <tbody>\n",
              "    <tr>\n",
              "      <th>2020-05-28</th>\n",
              "      <td>18924.449219</td>\n",
              "      <td>19455.550781</td>\n",
              "      <td>18818.949219</td>\n",
              "      <td>19169.800781</td>\n",
              "      <td>19169.578125</td>\n",
              "      <td>561100</td>\n",
              "    </tr>\n",
              "    <tr>\n",
              "      <th>2020-05-29</th>\n",
              "      <td>18962.000000</td>\n",
              "      <td>19358.050781</td>\n",
              "      <td>18729.900391</td>\n",
              "      <td>19297.250000</td>\n",
              "      <td>19297.025391</td>\n",
              "      <td>581700</td>\n",
              "    </tr>\n",
              "    <tr>\n",
              "      <th>2020-06-01</th>\n",
              "      <td>19728.900391</td>\n",
              "      <td>20225.349609</td>\n",
              "      <td>19632.900391</td>\n",
              "      <td>19959.900391</td>\n",
              "      <td>19959.667969</td>\n",
              "      <td>558100</td>\n",
              "    </tr>\n",
              "    <tr>\n",
              "      <th>2020-06-02</th>\n",
              "      <td>20120.599609</td>\n",
              "      <td>20615.750000</td>\n",
              "      <td>19852.550781</td>\n",
              "      <td>20530.199219</td>\n",
              "      <td>20529.960938</td>\n",
              "      <td>448300</td>\n",
              "    </tr>\n",
              "    <tr>\n",
              "      <th>2020-06-03</th>\n",
              "      <td>20966.599609</td>\n",
              "      <td>21619.550781</td>\n",
              "      <td>20822.000000</td>\n",
              "      <td>20940.699219</td>\n",
              "      <td>20940.455078</td>\n",
              "      <td>616900</td>\n",
              "    </tr>\n",
              "  </tbody>\n",
              "</table>\n",
              "</div>\n",
              "    <div class=\"colab-df-buttons\">\n",
              "\n",
              "  <div class=\"colab-df-container\">\n",
              "    <button class=\"colab-df-convert\" onclick=\"convertToInteractive('df-99bf5a27-e14c-408e-b8b3-2cdaf4a08f77')\"\n",
              "            title=\"Convert this dataframe to an interactive table.\"\n",
              "            style=\"display:none;\">\n",
              "\n",
              "  <svg xmlns=\"http://www.w3.org/2000/svg\" height=\"24px\" viewBox=\"0 -960 960 960\">\n",
              "    <path d=\"M120-120v-720h720v720H120Zm60-500h600v-160H180v160Zm220 220h160v-160H400v160Zm0 220h160v-160H400v160ZM180-400h160v-160H180v160Zm440 0h160v-160H620v160ZM180-180h160v-160H180v160Zm440 0h160v-160H620v160Z\"/>\n",
              "  </svg>\n",
              "    </button>\n",
              "\n",
              "  <style>\n",
              "    .colab-df-container {\n",
              "      display:flex;\n",
              "      gap: 12px;\n",
              "    }\n",
              "\n",
              "    .colab-df-convert {\n",
              "      background-color: #E8F0FE;\n",
              "      border: none;\n",
              "      border-radius: 50%;\n",
              "      cursor: pointer;\n",
              "      display: none;\n",
              "      fill: #1967D2;\n",
              "      height: 32px;\n",
              "      padding: 0 0 0 0;\n",
              "      width: 32px;\n",
              "    }\n",
              "\n",
              "    .colab-df-convert:hover {\n",
              "      background-color: #E2EBFA;\n",
              "      box-shadow: 0px 1px 2px rgba(60, 64, 67, 0.3), 0px 1px 3px 1px rgba(60, 64, 67, 0.15);\n",
              "      fill: #174EA6;\n",
              "    }\n",
              "\n",
              "    .colab-df-buttons div {\n",
              "      margin-bottom: 4px;\n",
              "    }\n",
              "\n",
              "    [theme=dark] .colab-df-convert {\n",
              "      background-color: #3B4455;\n",
              "      fill: #D2E3FC;\n",
              "    }\n",
              "\n",
              "    [theme=dark] .colab-df-convert:hover {\n",
              "      background-color: #434B5C;\n",
              "      box-shadow: 0px 1px 3px 1px rgba(0, 0, 0, 0.15);\n",
              "      filter: drop-shadow(0px 1px 2px rgba(0, 0, 0, 0.3));\n",
              "      fill: #FFFFFF;\n",
              "    }\n",
              "  </style>\n",
              "\n",
              "    <script>\n",
              "      const buttonEl =\n",
              "        document.querySelector('#df-99bf5a27-e14c-408e-b8b3-2cdaf4a08f77 button.colab-df-convert');\n",
              "      buttonEl.style.display =\n",
              "        google.colab.kernel.accessAllowed ? 'block' : 'none';\n",
              "\n",
              "      async function convertToInteractive(key) {\n",
              "        const element = document.querySelector('#df-99bf5a27-e14c-408e-b8b3-2cdaf4a08f77');\n",
              "        const dataTable =\n",
              "          await google.colab.kernel.invokeFunction('convertToInteractive',\n",
              "                                                    [key], {});\n",
              "        if (!dataTable) return;\n",
              "\n",
              "        const docLinkHtml = 'Like what you see? Visit the ' +\n",
              "          '<a target=\"_blank\" href=https://colab.research.google.com/notebooks/data_table.ipynb>data table notebook</a>'\n",
              "          + ' to learn more about interactive tables.';\n",
              "        element.innerHTML = '';\n",
              "        dataTable['output_type'] = 'display_data';\n",
              "        await google.colab.output.renderOutput(dataTable, element);\n",
              "        const docLink = document.createElement('div');\n",
              "        docLink.innerHTML = docLinkHtml;\n",
              "        element.appendChild(docLink);\n",
              "      }\n",
              "    </script>\n",
              "  </div>\n",
              "\n",
              "\n",
              "<div id=\"df-9dff79e8-2042-4146-abee-e1a4d6cbfe54\">\n",
              "  <button class=\"colab-df-quickchart\" onclick=\"quickchart('df-9dff79e8-2042-4146-abee-e1a4d6cbfe54')\"\n",
              "            title=\"Suggest charts\"\n",
              "            style=\"display:none;\">\n",
              "\n",
              "<svg xmlns=\"http://www.w3.org/2000/svg\" height=\"24px\"viewBox=\"0 0 24 24\"\n",
              "     width=\"24px\">\n",
              "    <g>\n",
              "        <path d=\"M19 3H5c-1.1 0-2 .9-2 2v14c0 1.1.9 2 2 2h14c1.1 0 2-.9 2-2V5c0-1.1-.9-2-2-2zM9 17H7v-7h2v7zm4 0h-2V7h2v10zm4 0h-2v-4h2v4z\"/>\n",
              "    </g>\n",
              "</svg>\n",
              "  </button>\n",
              "\n",
              "<style>\n",
              "  .colab-df-quickchart {\n",
              "      --bg-color: #E8F0FE;\n",
              "      --fill-color: #1967D2;\n",
              "      --hover-bg-color: #E2EBFA;\n",
              "      --hover-fill-color: #174EA6;\n",
              "      --disabled-fill-color: #AAA;\n",
              "      --disabled-bg-color: #DDD;\n",
              "  }\n",
              "\n",
              "  [theme=dark] .colab-df-quickchart {\n",
              "      --bg-color: #3B4455;\n",
              "      --fill-color: #D2E3FC;\n",
              "      --hover-bg-color: #434B5C;\n",
              "      --hover-fill-color: #FFFFFF;\n",
              "      --disabled-bg-color: #3B4455;\n",
              "      --disabled-fill-color: #666;\n",
              "  }\n",
              "\n",
              "  .colab-df-quickchart {\n",
              "    background-color: var(--bg-color);\n",
              "    border: none;\n",
              "    border-radius: 50%;\n",
              "    cursor: pointer;\n",
              "    display: none;\n",
              "    fill: var(--fill-color);\n",
              "    height: 32px;\n",
              "    padding: 0;\n",
              "    width: 32px;\n",
              "  }\n",
              "\n",
              "  .colab-df-quickchart:hover {\n",
              "    background-color: var(--hover-bg-color);\n",
              "    box-shadow: 0 1px 2px rgba(60, 64, 67, 0.3), 0 1px 3px 1px rgba(60, 64, 67, 0.15);\n",
              "    fill: var(--button-hover-fill-color);\n",
              "  }\n",
              "\n",
              "  .colab-df-quickchart-complete:disabled,\n",
              "  .colab-df-quickchart-complete:disabled:hover {\n",
              "    background-color: var(--disabled-bg-color);\n",
              "    fill: var(--disabled-fill-color);\n",
              "    box-shadow: none;\n",
              "  }\n",
              "\n",
              "  .colab-df-spinner {\n",
              "    border: 2px solid var(--fill-color);\n",
              "    border-color: transparent;\n",
              "    border-bottom-color: var(--fill-color);\n",
              "    animation:\n",
              "      spin 1s steps(1) infinite;\n",
              "  }\n",
              "\n",
              "  @keyframes spin {\n",
              "    0% {\n",
              "      border-color: transparent;\n",
              "      border-bottom-color: var(--fill-color);\n",
              "      border-left-color: var(--fill-color);\n",
              "    }\n",
              "    20% {\n",
              "      border-color: transparent;\n",
              "      border-left-color: var(--fill-color);\n",
              "      border-top-color: var(--fill-color);\n",
              "    }\n",
              "    30% {\n",
              "      border-color: transparent;\n",
              "      border-left-color: var(--fill-color);\n",
              "      border-top-color: var(--fill-color);\n",
              "      border-right-color: var(--fill-color);\n",
              "    }\n",
              "    40% {\n",
              "      border-color: transparent;\n",
              "      border-right-color: var(--fill-color);\n",
              "      border-top-color: var(--fill-color);\n",
              "    }\n",
              "    60% {\n",
              "      border-color: transparent;\n",
              "      border-right-color: var(--fill-color);\n",
              "    }\n",
              "    80% {\n",
              "      border-color: transparent;\n",
              "      border-right-color: var(--fill-color);\n",
              "      border-bottom-color: var(--fill-color);\n",
              "    }\n",
              "    90% {\n",
              "      border-color: transparent;\n",
              "      border-bottom-color: var(--fill-color);\n",
              "    }\n",
              "  }\n",
              "</style>\n",
              "\n",
              "  <script>\n",
              "    async function quickchart(key) {\n",
              "      const quickchartButtonEl =\n",
              "        document.querySelector('#' + key + ' button');\n",
              "      quickchartButtonEl.disabled = true;  // To prevent multiple clicks.\n",
              "      quickchartButtonEl.classList.add('colab-df-spinner');\n",
              "      try {\n",
              "        const charts = await google.colab.kernel.invokeFunction(\n",
              "            'suggestCharts', [key], {});\n",
              "      } catch (error) {\n",
              "        console.error('Error during call to suggestCharts:', error);\n",
              "      }\n",
              "      quickchartButtonEl.classList.remove('colab-df-spinner');\n",
              "      quickchartButtonEl.classList.add('colab-df-quickchart-complete');\n",
              "    }\n",
              "    (() => {\n",
              "      let quickchartButtonEl =\n",
              "        document.querySelector('#df-9dff79e8-2042-4146-abee-e1a4d6cbfe54 button');\n",
              "      quickchartButtonEl.style.display =\n",
              "        google.colab.kernel.accessAllowed ? 'block' : 'none';\n",
              "    })();\n",
              "  </script>\n",
              "</div>\n",
              "\n",
              "    </div>\n",
              "  </div>\n"
            ]
          },
          "metadata": {},
          "execution_count": 9
        }
      ],
      "source": [
        "symbol = '^NSEBANK'\n",
        "end = '2021-05-28'\n",
        "start = '2020-05-28'\n",
        "\n",
        "df_year = yf.download(symbol,start,end)\n",
        "\n",
        "df_year.head()\n",
        "# Read data\n",
        "#You need to read the from the files provided on NSE Bank for the time given above."
      ]
    },
    {
      "cell_type": "code",
      "execution_count": null,
      "metadata": {
        "id": "fHKIhafJE2c1"
      },
      "outputs": [],
      "source": [
        "ret = df_year['Close'].pct_change()[1:]"
      ]
    },
    {
      "cell_type": "code",
      "execution_count": null,
      "metadata": {
        "id": "s4VRF2EWE2c1",
        "colab": {
          "base_uri": "https://localhost:8080/"
        },
        "outputId": "af8857ab-a84b-418d-cd0d-d4dadc4f4328"
      },
      "outputs": [
        {
          "output_type": "execute_result",
          "data": {
            "text/plain": [
              "Date\n",
              "2020-05-29    0.006648\n",
              "2020-06-01    0.034339\n",
              "2020-06-02    0.028572\n",
              "2020-06-03    0.019995\n",
              "2020-06-04   -0.026277\n",
              "Name: Close, dtype: float64"
            ]
          },
          "metadata": {},
          "execution_count": 11
        }
      ],
      "source": [
        "ret.head()"
      ]
    },
    {
      "cell_type": "code",
      "execution_count": null,
      "metadata": {
        "id": "n6SDOj-CE2c2",
        "colab": {
          "base_uri": "https://localhost:8080/"
        },
        "outputId": "f0ee3afe-340f-4d70-e7db-2dc695e91858"
      },
      "outputs": [
        {
          "output_type": "execute_result",
          "data": {
            "text/plain": [
              "0.018580334637206996"
            ]
          },
          "metadata": {},
          "execution_count": 12
        }
      ],
      "source": [
        "daily_vol = ret.std()\n",
        "daily_vol"
      ]
    },
    {
      "cell_type": "code",
      "execution_count": null,
      "metadata": {
        "id": "-Ocb1XZdE2c2",
        "colab": {
          "base_uri": "https://localhost:8080/"
        },
        "outputId": "c69b8024-3d53-454d-e526-12449fcc96f1"
      },
      "outputs": [
        {
          "output_type": "execute_result",
          "data": {
            "text/plain": [
              "0.29495366835845543"
            ]
          },
          "metadata": {},
          "execution_count": 13
        }
      ],
      "source": [
        "#calculate the Annual Volatility using the daily volatility given above.\n",
        "vol = daily_vol * np.sqrt(252)\n",
        "vol"
      ]
    },
    {
      "cell_type": "code",
      "execution_count": null,
      "metadata": {
        "id": "8kOf2izOE2c3"
      },
      "outputs": [],
      "source": [
        "expiry = datetime.strptime('2021-06-24', '%Y-%m-%d')   #Expiry date"
      ]
    },
    {
      "cell_type": "code",
      "execution_count": null,
      "metadata": {
        "id": "-yoknf1QE2c3",
        "colab": {
          "base_uri": "https://localhost:8080/"
        },
        "outputId": "68db8b3e-585b-44c6-c528-72bf54e95137"
      },
      "outputs": [
        {
          "output_type": "execute_result",
          "data": {
            "text/plain": [
              "TimedeltaIndex(['27 days', '24 days', '23 days', '22 days', '21 days',\n",
              "                '20 days', '17 days', '16 days', '15 days', '14 days',\n",
              "                '13 days', '10 days',  '9 days',  '8 days',  '7 days',\n",
              "                 '6 days',  '3 days',  '2 days',  '1 days',  '0 days'],\n",
              "               dtype='timedelta64[ns]', name='Date', freq=None)"
            ]
          },
          "metadata": {},
          "execution_count": 15
        }
      ],
      "source": [
        "time_left = expiry-df.index    #Time left in days\n",
        "time_left"
      ]
    },
    {
      "cell_type": "code",
      "execution_count": null,
      "metadata": {
        "id": "FJFrnj9-E2c4",
        "colab": {
          "base_uri": "https://localhost:8080/"
        },
        "outputId": "ea3927e7-d39b-4a69-8fdd-823fdbea851c"
      },
      "outputs": [
        {
          "output_type": "execute_result",
          "data": {
            "text/plain": [
              "[27, 24, 23, 22, 21, 20, 17, 16, 15, 14, 13, 10, 9, 8, 7, 6, 3, 2, 1, 0]"
            ]
          },
          "metadata": {},
          "execution_count": 16
        }
      ],
      "source": [
        "#Convert Time left in days to int data type\n",
        "time=[int(i.total_seconds()/86400) for i in time_left]\n",
        "time"
      ]
    },
    {
      "cell_type": "markdown",
      "metadata": {
        "id": "FgnMtj7_E2c4"
      },
      "source": [
        "### Initial buying and selling"
      ]
    },
    {
      "cell_type": "code",
      "execution_count": null,
      "metadata": {
        "id": "nGqd2GvsE2c4"
      },
      "outputs": [],
      "source": [
        "no_of_lots_fut = 10           #number of future lots we bought at start of the month\n",
        "buy_avg_future = df_fut['Open'][0]       #buying average of that lot\n",
        "lot_size = 25     #lot size of bank nifty\n",
        "delta = 1*no_of_lots_fut*lot_size    #taking delta of future is 1 as if banknifty changes by 1 the future would also change by 1\n",
        "delta_to_maintain = 0.8*no_of_lots_fut*lot_size #Maintain 0.8 delta per future contract"
      ]
    },
    {
      "cell_type": "code",
      "execution_count": null,
      "metadata": {
        "id": "lqfa2YdPE2c5",
        "colab": {
          "base_uri": "https://localhost:8080/"
        },
        "outputId": "375eb672-529e-4c48-b151-e3a1e6f530a8"
      },
      "outputs": [
        {
          "output_type": "execute_result",
          "data": {
            "text/plain": [
              "11.175180281228103"
            ]
          },
          "metadata": {},
          "execution_count": 18
        }
      ],
      "source": [
        "flag = 'c'   #for call or put option\n",
        "S = df['Open'][0]    #price of the underlying\n",
        "K = 36000   #strike price\n",
        "t = time[0]/365   #time left to expiry in years\n",
        "sigma = vol   #volatility\n",
        "r = 0.06  #risk free rate\n",
        "delta_per_lot_call = derivatives.delta(flag, S, K, t, r, sigma)*lot_size #Calculate delta per lot\n",
        "delta_per_lot_call"
      ]
    },
    {
      "cell_type": "code",
      "execution_count": null,
      "metadata": {
        "id": "_GCdbh6iE2c5",
        "colab": {
          "base_uri": "https://localhost:8080/"
        },
        "outputId": "d6d6eaec-4e05-4883-e525-3cb243ad70d5"
      },
      "outputs": [
        {
          "output_type": "execute_result",
          "data": {
            "text/plain": [
              "200.0"
            ]
          },
          "metadata": {},
          "execution_count": 19
        }
      ],
      "source": [
        "delta_to_maintain"
      ]
    },
    {
      "cell_type": "code",
      "execution_count": null,
      "metadata": {
        "id": "M8TuuoGCE2c6",
        "colab": {
          "base_uri": "https://localhost:8080/"
        },
        "outputId": "84718d87-18ff-460c-8cbf-0236594e2454"
      },
      "outputs": [
        {
          "output_type": "execute_result",
          "data": {
            "text/plain": [
              "250"
            ]
          },
          "metadata": {},
          "execution_count": 20
        }
      ],
      "source": [
        "delta"
      ]
    },
    {
      "cell_type": "code",
      "execution_count": null,
      "metadata": {
        "id": "guVV7FCWE2c6"
      },
      "outputs": [],
      "source": [
        "number_of_lots_call = math.ceil((delta-delta_to_maintain)/(delta_per_lot_call)) #Calculate Number of call lots we have to sell to keep delta of 200"
      ]
    },
    {
      "cell_type": "code",
      "execution_count": null,
      "metadata": {
        "id": "j5ZAObpFE2c6",
        "colab": {
          "base_uri": "https://localhost:8080/"
        },
        "outputId": "8cd2f07a-c9bb-435a-b607-4e7838cc20ae"
      },
      "outputs": [
        {
          "output_type": "execute_result",
          "data": {
            "text/plain": [
              "5"
            ]
          },
          "metadata": {},
          "execution_count": 22
        }
      ],
      "source": [
        "number_of_lots_call"
      ]
    },
    {
      "cell_type": "code",
      "execution_count": null,
      "metadata": {
        "id": "92acckStE2c7",
        "colab": {
          "base_uri": "https://localhost:8080/"
        },
        "outputId": "97ce56aa-e43c-474e-f5b1-6e20d4cb74df"
      },
      "outputs": [
        {
          "output_type": "execute_result",
          "data": {
            "text/plain": [
              "849.95"
            ]
          },
          "metadata": {},
          "execution_count": 23
        }
      ],
      "source": [
        "sell_avg_call = df_call_36000['Open'][0]  #selling avg of call\n",
        "sell_avg_call"
      ]
    },
    {
      "cell_type": "code",
      "execution_count": null,
      "metadata": {
        "id": "u5dry9CNE2c7"
      },
      "outputs": [],
      "source": [
        "# Before moving on to managing delta, answer a few questions:\n",
        "\n",
        "#Q1 : What do you think would happen to the delta of call option as banknifty goes up? (increase/decrease)\n",
        "#Ans : increase\n",
        "\n",
        "#Q2 : So to manage the delta what would be done to call options already sold? (Buy some call options / Sell more)\n",
        "#Hint : Remember selling call options would give negative delta\n",
        "#Ans : Sell more"
      ]
    },
    {
      "cell_type": "markdown",
      "metadata": {
        "id": "JX8Nlrq8E2c8"
      },
      "source": [
        "### Managing delta"
      ]
    },
    {
      "cell_type": "code",
      "execution_count": null,
      "metadata": {
        "id": "vmkLZoGhE2c8",
        "colab": {
          "base_uri": "https://localhost:8080/"
        },
        "outputId": "c195ad10-d683-4a6b-d5f1-bf066c3db584"
      },
      "outputs": [
        {
          "output_type": "stream",
          "name": "stdout",
          "text": [
            "35321.8 35499.0 849.95 730.8\n",
            "35602.9 35499.0 849.95 772.95\n",
            "35454.1 35499.0 849.95 660.65\n",
            "35524.25 35499.0 849.95 612.7\n",
            "35781.95 35499.0 849.95 698.4\n",
            "35508.5 35499.0 849.95 549.15\n",
            "35622.2 35499.0 849.95 537.05\n",
            "35265.3 35499.0 766.4833333333332 349.15\n",
            "34929.35 35499.0 690.5142857142856 234.7\n",
            "35266.35 35499.0 754.5749999999999 306.15\n",
            "35169.35 35499.0 754.5749999999999 242.95\n",
            "35065.1 35499.0 671.4285714285714 172.55\n",
            "35330.4 35499.0 749.3833333333333 203.7\n",
            "35101.35 35499.0 598.3000000000001 145.05\n",
            "34682.2 35499.0 417.50000000000006 55.9\n",
            "34596.75 35499.0 362.43571428571437 32.05\n",
            "34911.1 35499.0 303.00294117647064 25.65\n",
            "34775.8 35499.0 147.16351351351355 14.7\n",
            "34611.9 35499.0 20.093822843822842 8.1\n"
          ]
        }
      ],
      "source": [
        "number_of_lots_call = math.ceil((delta-delta_to_maintain)/delta_per_lot_call)  #number of call lots we have to sell to keep delta of 200\n",
        "sell_avg_call = df_call_36000['Open'][0]  #selling avg of call\n",
        "profit= []\n",
        "\n",
        "for i in range(len(df)-1):\n",
        "    delta_per_lot_call = derivatives.delta(flag, df['Close'][i], 36000, time[i]/365, r, sigma)*lot_size  #Calculation of delta per lot at the next closing day\n",
        "    current_number_of_lots_call = math.ceil((delta-delta_to_maintain)/delta_per_lot_call)   #number of lots required to sell\n",
        "    no_of_lots_added = current_number_of_lots_call - number_of_lots_call   #number of lots added/subtracted for selling\n",
        "    sell_avg_call = (sell_avg_call*number_of_lots_call + no_of_lots_added*df_call_36000['Close'][i])/current_number_of_lots_call  #new selling avg of call\n",
        "    number_of_lots_call = current_number_of_lots_call    #updating number of lots of calls sold\n",
        "    profit.append((df_fut['Close'][i]-buy_avg_future)*no_of_lots_fut*lot_size + (sell_avg_call-df_call_36000['Close'][i])*lot_size*number_of_lots_call)  #unrealised profit\n",
        "    print(df_fut['Close'][i], buy_avg_future, sell_avg_call, df_call_36000['Close'][i])"
      ]
    },
    {
      "cell_type": "code",
      "execution_count": null,
      "metadata": {
        "id": "nX1HzguLE2c8",
        "colab": {
          "base_uri": "https://localhost:8080/"
        },
        "outputId": "3f616816-fc95-45e0-ae60-e0e6e51ce399"
      },
      "outputs": [
        {
          "output_type": "execute_result",
          "data": {
            "text/plain": [
              "429"
            ]
          },
          "metadata": {},
          "execution_count": 26
        }
      ],
      "source": [
        "#As you can see that the number of lots of call sold is way too many as the delta of out of money call option approches 0 in the end\n",
        "#Thus this strategy would practically be possible by changing the strike price of the call option as it goes deep out of money\n",
        "#But that would require much higher level programming thats why we have given this simple assignment jst theoretically make\n",
        "#you realise the power of hedging\n",
        "number_of_lots_call"
      ]
    },
    {
      "cell_type": "code",
      "execution_count": null,
      "metadata": {
        "id": "PYs591BGE2c9",
        "colab": {
          "base_uri": "https://localhost:8080/"
        },
        "outputId": "9b766afb-ebfa-4056-ffb7-eddbd6782521"
      },
      "outputs": [
        {
          "output_type": "execute_result",
          "data": {
            "text/plain": [
              "20.093822843822842"
            ]
          },
          "metadata": {},
          "execution_count": 27
        }
      ],
      "source": [
        "sell_avg_call"
      ]
    },
    {
      "cell_type": "code",
      "execution_count": null,
      "metadata": {
        "id": "5FjY0bjwE2c9",
        "colab": {
          "base_uri": "https://localhost:8080/"
        },
        "outputId": "2f0b9f68-edfc-4792-eab5-bc4073385eab"
      },
      "outputs": [
        {
          "output_type": "execute_result",
          "data": {
            "text/plain": [
              "0.11668120471912463"
            ]
          },
          "metadata": {},
          "execution_count": 28
        }
      ],
      "source": [
        "delta_per_lot_call"
      ]
    },
    {
      "cell_type": "code",
      "execution_count": null,
      "metadata": {
        "id": "M99IUsY0E2c-",
        "colab": {
          "base_uri": "https://localhost:8080/"
        },
        "outputId": "9e6db2d6-26a6-4074-f812-e66f6bfafb6c"
      },
      "outputs": [
        {
          "output_type": "execute_result",
          "data": {
            "text/plain": [
              "[-29406.24999999926,\n",
              " 35600.000000000364,\n",
              " 12437.499999999643,\n",
              " 35968.75,\n",
              " 89681.24999999927,\n",
              " 39975.00000000001,\n",
              " 69912.49999999927,\n",
              " 4175.00000000072,\n",
              " -62645.000000000364,\n",
              " 9101.249999999622,\n",
              " -5668.750000000378,\n",
              " -21171.250000000364,\n",
              " 39702.50000000038,\n",
              " -8762.50000000035,\n",
              " -95720.0000000007,\n",
              " -109927.49999999997,\n",
              " -29100.00000000032,\n",
              " -58271.24999999923,\n",
              " -93141.24999999967]"
            ]
          },
          "metadata": {},
          "execution_count": 29
        }
      ],
      "source": [
        "profit"
      ]
    },
    {
      "cell_type": "code",
      "execution_count": null,
      "metadata": {
        "id": "HsLZgkn9E2c-",
        "colab": {
          "base_uri": "https://localhost:8080/",
          "height": 450
        },
        "outputId": "01701c50-7e45-460b-cba5-022c24d1cb2e"
      },
      "outputs": [
        {
          "output_type": "execute_result",
          "data": {
            "text/plain": [
              "<matplotlib.legend.Legend at 0x789c1bbb9c90>"
            ]
          },
          "metadata": {},
          "execution_count": 30
        },
        {
          "output_type": "display_data",
          "data": {
            "text/plain": [
              "<Figure size 640x480 with 1 Axes>"
            ],
            "image/png": "[encoded data removed]"
          },
          "metadata": {}
        }
      ],
      "source": [
        "plt.plot(profit[:14], label = 'strategy_profit')\n",
        "plt.plot((df_fut['Close']-df_fut['Open'][0])[:14]*250, label = 'futures_profit')\n",
        "plt.legend()"
      ]
    },
    {
      "cell_type": "markdown",
      "metadata": {
        "id": "AID1g2RfE2c-"
      },
      "source": [
        "As you can see from the above graph of first first 14 days of the strategy that though the futures did fall very down but<br/>\n",
        "We were able to hedge this with selling of call option and our strategy did give better returns overall<br/>\n",
        "<br/>\n",
        "We didnt plot the whole graph as in the end many lots of call options were sold which is practically not possible<br/>"
      ]
    }
  ],
  "metadata": {
    "kernelspec": {
      "display_name": "Python 3",
      "language": "python",
      "name": "python3"
    },
    "language_info": {
      "codemirror_mode": {
        "name": "ipython",
        "version": 3
      },
      "file_extension": ".py",
      "mimetype": "text/x-python",
      "name": "python",
      "nbconvert_exporter": "python",
      "pygments_lexer": "ipython3",
      "version": "3.7.3"
    },
    "colab": {
      "provenance": []
    }
  },
  "nbformat": 4,
  "nbformat_minor": 0
}
